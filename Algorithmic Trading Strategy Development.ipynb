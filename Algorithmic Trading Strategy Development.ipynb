{
 "cells": [
  {
   "cell_type": "markdown",
   "id": "3d11a63b",
   "metadata": {},
   "source": [
    "# Advanced Algorithmic Trading Strategy Development in Jupyter Notebook\n",
    "This Jupyter Notebook outlines a more complex approach to algorithmic trading strategy development. We’ll create an interactive notebook where users can select the stock ticker, start and end dates for data collection, and then develop and test trading strategies. The notebook will use free data sources such as Yahoo Finance and Alpha Vantage.\n",
    "\n",
    "## Objective\n",
    "Develop and test sophisticated algorithmic trading strategies using historical market data with interactive user inputs.\n",
    "\n",
    "## Components\n",
    "Strategy Design: Implement various trading algorithms such as momentum, mean reversion, and pairs trading.\n",
    "Backtesting: Evaluate strategy performance with historical data.\n",
    "Execution: Integrate with trading APIs for live testing or paper trading.\n",
    "Performance Evaluation: Analyze metrics like Sharpe ratio, alpha, beta, and drawdowns.\n",
    "Data Sources\n",
    "Yahoo Finance: Historical price data.\n",
    "Alpha Vantage: Real-time and historical data."
   ]
  },
  {
   "cell_type": "markdown",
   "id": "e909f6b0",
   "metadata": {},
   "source": [
    "## Import Libraries and Collect Data\n",
    "\n",
    "We'll start by importing necessary libraries and collecting historical data using yfinance and Alpha Vantage."
   ]
  },
  {
   "cell_type": "code",
   "execution_count": 9,
   "id": "1262f531",
   "metadata": {},
   "outputs": [],
   "source": [
    "import yfinance as yf\n",
    "import pandas as pd\n",
    "import numpy as np\n",
    "import matplotlib.pyplot as plt\n",
    "from alpha_vantage.timeseries import TimeSeries\n",
    "from ipywidgets import interact, widgets\n"
   ]
  },
  {
   "cell_type": "code",
   "execution_count": 10,
   "id": "c3a4fb14",
   "metadata": {},
   "outputs": [],
   "source": [
    "# Collect data from Yahoo Finance\n",
    "def get_data_yahoo(ticker, start_date, end_date):\n",
    "    data = yf.download(ticker, start=start_date, end=end_date)\n",
    "    return data\n",
    "\n",
    "# Collect data from Alpha Vantage\n",
    "def get_data_alpha_vantage(ticker, api_key):\n",
    "    ts = TimeSeries(key=api_key, output_format='pandas')\n",
    "    data, _ = ts.get_daily(symbol=ticker, outputsize='full')\n",
    "    return data\n"
   ]
  },
  {
   "cell_type": "markdown",
   "id": "e434b9f1",
   "metadata": {},
   "source": [
    "## Interactive Widgets\n",
    "\n",
    "Create widgets for user input to select stock ticker and dates."
   ]
  },
  {
   "cell_type": "code",
   "execution_count": 14,
   "id": "76b49206",
   "metadata": {},
   "outputs": [
    {
     "data": {
      "application/vnd.jupyter.widget-view+json": {
       "model_id": "8eaae2853f0e4f739156d7641b6f81da",
       "version_major": 2,
       "version_minor": 0
      },
      "text/plain": [
       "interactive(children=(Text(value='AAPL', description='Ticker:'), DatePicker(value=Timestamp('2020-01-01 00:00:…"
      ]
     },
     "metadata": {},
     "output_type": "display_data"
    },
    {
     "data": {
      "text/plain": [
       "<function __main__.interactive_strategy(ticker, start_date, end_date)>"
      ]
     },
     "execution_count": 14,
     "metadata": {},
     "output_type": "execute_result"
    }
   ],
   "source": [
    "def interactive_strategy(ticker, start_date, end_date):\n",
    "    # Get data\n",
    "    data_yahoo = get_data_yahoo(ticker, start_date, end_date)\n",
    "    data = data_yahoo[['Close']]\n",
    "    data['Date'] = data.index\n",
    "    data.reset_index(drop=True, inplace=True)\n",
    "\n",
    "    # Calculate Moving Averages\n",
    "    data['SMA_50'] = data['Close'].rolling(window=50).mean()\n",
    "    data['SMA_200'] = data['Close'].rolling(window=200).mean()\n",
    "\n",
    "    # Generate signals\n",
    "    data['Signal'] = 0\n",
    "    data['Signal'][50:] = np.where(data['SMA_50'][50:] > data['SMA_200'][50:], 1, 0)\n",
    "    data['Position'] = data['Signal'].diff()\n",
    "\n",
    "    # Backtesting\n",
    "    initial_balance = 10000  # Starting balance\n",
    "    balance = initial_balance\n",
    "    position = 0\n",
    "    buy_price = 0\n",
    "\n",
    "    for i in range(len(data)):\n",
    "        if data['Position'][i] == 1:  # Buy signal\n",
    "            position = balance / data['Close'][i]\n",
    "            buy_price = data['Close'][i]\n",
    "            balance = 0\n",
    "        elif data['Position'][i] == -1:  # Sell signal\n",
    "            balance = position * data['Close'][i]\n",
    "            position = 0\n",
    "\n",
    "    # Final balance\n",
    "    if position > 0:\n",
    "        balance = position * data['Close'].iloc[-1]\n",
    "\n",
    "    print(f'Final Balance: ${balance:.2f}')\n",
    "\n",
    "    # Plot\n",
    "    plt.figure(figsize=(12, 6))\n",
    "    plt.plot(data['Date'], data['Close'], label='Close Price', alpha=0.5)\n",
    "    plt.plot(data['Date'], data['SMA_50'], label='50-Day Moving Average')\n",
    "    plt.plot(data['Date'], data['SMA_200'], label='200-Day Moving Average')\n",
    "\n",
    "    # Plot buy signals\n",
    "    plt.plot(data[data['Position'] == 1]['Date'], data['SMA_50'][data['Position'] == 1], '^', markersize=10, color='g', label='Buy Signal')\n",
    "\n",
    "    # Plot sell signals\n",
    "    plt.plot(data[data['Position'] == -1]['Date'], data['SMA_50'][data['Position'] == -1], 'v', markersize=10, color='r', label='Sell Signal')\n",
    "\n",
    "    plt.title(f'{ticker} Moving Average Crossover Strategy')\n",
    "    plt.xlabel('Date')\n",
    "    plt.ylabel('Price')\n",
    "    plt.legend()\n",
    "    plt.grid(True)\n",
    "    plt.show()\n",
    "    evaluate_performance(data)\n",
    "# Interactive widgets\n",
    "interact(interactive_strategy,\n",
    "         ticker=widgets.Text(value='AAPL', description='Ticker:'),\n",
    "         start_date=widgets.DatePicker(value=pd.to_datetime('2020-01-01'), description='Start Date:'),\n",
    "         end_date=widgets.DatePicker(value=pd.to_datetime('2023-01-01'), description='End Date:'))\n",
    "\n"
   ]
  },
  {
   "cell_type": "markdown",
   "id": "c3fef308",
   "metadata": {},
   "source": [
    "## Implement Trading Strategy\n",
    "\n",
    "We’ll use a Moving Average Crossover strategy, which involves two moving averages: a short-term (e.g., 50 days) and a long-term (e.g., 200 days). Buy signals occur when the short-term moving average crosses above the long-term moving average, and sell signals occur when it crosses below.\n",
    "\n",
    "## Strategy Design and Evaluation\n",
    "\n",
    "Expand this notebook by adding more strategies and evaluation metrics:\n",
    "\n",
    "Momentum Strategy: Buy stocks that are trending up and sell those trending down.\n",
    "Mean Reversion Strategy: Trade based on the assumption that prices will revert to the mean.\n",
    "Pairs Trading: Identify pairs of stocks with correlated price movements and trade based on divergence.\n",
    "Add performance metrics for evaluation:"
   ]
  },
  {
   "cell_type": "code",
   "execution_count": 12,
   "id": "4bb0bb8c",
   "metadata": {},
   "outputs": [],
   "source": [
    "def evaluate_performance(data):\n",
    "    returns = data['Close'].pct_change()\n",
    "    strategy_returns = data['Signal'].shift(1) * returns\n",
    "    cumulative_returns = (1 + strategy_returns).cumprod() - 1\n",
    "    sharpe_ratio = np.sqrt(252) * strategy_returns.mean() / strategy_returns.std()\n",
    "    \n",
    "    print(f'Final Balance: ${balance:.2f}')\n",
    "    print(f'Sharpe Ratio: {sharpe_ratio:.2f}')\n",
    "    \n",
    "    plt.figure(figsize=(12, 6))\n",
    "    plt.plot(cumulative_returns.index, cumulative_returns, label='Strategy Returns')\n",
    "    plt.title('Cumulative Returns')\n",
    "    plt.xlabel('Date')\n",
    "    plt.ylabel('Cumulative Returns')\n",
    "    plt.legend()\n",
    "    plt.grid(True)\n",
    "    plt.show()\n",
    "\n",
    "# Call this function in the interactive_strategy function for performance evaluation\n"
   ]
  },
  {
   "cell_type": "code",
   "execution_count": null,
   "id": "8b180213",
   "metadata": {},
   "outputs": [],
   "source": []
  }
 ],
 "metadata": {
  "kernelspec": {
   "display_name": "Python 3 (ipykernel)",
   "language": "python",
   "name": "python3"
  },
  "language_info": {
   "codemirror_mode": {
    "name": "ipython",
    "version": 3
   },
   "file_extension": ".py",
   "mimetype": "text/x-python",
   "name": "python",
   "nbconvert_exporter": "python",
   "pygments_lexer": "ipython3",
   "version": "3.9.7"
  }
 },
 "nbformat": 4,
 "nbformat_minor": 5
}
